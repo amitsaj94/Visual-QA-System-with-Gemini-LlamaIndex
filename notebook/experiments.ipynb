{
 "cells": [
  {
   "cell_type": "code",
   "execution_count": 35,
   "id": "ac3c42d5",
   "metadata": {},
   "outputs": [
    {
     "data": {
      "text/plain": [
       "True"
      ]
     },
     "execution_count": 35,
     "metadata": {},
     "output_type": "execute_result"
    }
   ],
   "source": [
    "import os\n",
    "from dotenv import load_dotenv\n",
    "load_dotenv()"
   ]
  },
  {
   "cell_type": "code",
   "execution_count": 36,
   "id": "2bbccc61",
   "metadata": {},
   "outputs": [],
   "source": [
    "google_api_key = os.getenv(\"GOOGLE_API_KEY\")  # This will retrieve the API key from the .env file"
   ]
  },
  {
   "cell_type": "code",
   "execution_count": 37,
   "id": "b51014e4",
   "metadata": {},
   "outputs": [
    {
     "name": "stdout",
     "output_type": "stream",
     "text": [
      "Google API Key loaded successfully.\n"
     ]
    }
   ],
   "source": [
    "if google_api_key:\n",
    "    print(\"Google API Key loaded successfully.\")\n",
    "else:\n",
    "    print(\"Failed to load Google API Key. Please check your .env file.\")"
   ]
  },
  {
   "cell_type": "code",
   "execution_count": 38,
   "id": "9adc4343",
   "metadata": {},
   "outputs": [],
   "source": [
    "from llama_index.llms.gemini import Gemini\n",
    "import google.generativeai as genai\n",
    "from llama_index.core import SimpleDirectoryReader\n",
    "from llama_index.llms.gemini import Gemini\n",
    "from IPython.display import display, Markdown\n",
    "from llama_index.core import VectorStoreIndex\n",
    "from llama_index.core import ServiceContext\n",
    "from llama_index.core import StorageContext, load_index_from_storage\n",
    "\n",
    "from llama_index.embeddings.gemini import GeminiEmbedding"
   ]
  },
  {
   "cell_type": "code",
   "execution_count": 39,
   "id": "600da140",
   "metadata": {},
   "outputs": [],
   "source": [
    "genai.configure(api_key=google_api_key)"
   ]
  },
  {
   "cell_type": "code",
   "execution_count": 40,
   "id": "b856ea1b",
   "metadata": {},
   "outputs": [
    {
     "name": "stdout",
     "output_type": "stream",
     "text": [
      "models/embedding-gecko-001\n",
      "models/gemini-1.5-pro-latest\n",
      "models/gemini-1.5-pro-002\n",
      "models/gemini-1.5-pro\n",
      "models/gemini-1.5-flash-latest\n",
      "models/gemini-1.5-flash\n",
      "models/gemini-1.5-flash-002\n",
      "models/gemini-1.5-flash-8b\n",
      "models/gemini-1.5-flash-8b-001\n",
      "models/gemini-1.5-flash-8b-latest\n",
      "models/gemini-2.5-pro-preview-03-25\n",
      "models/gemini-2.5-flash-preview-05-20\n",
      "models/gemini-2.5-flash\n",
      "models/gemini-2.5-flash-lite-preview-06-17\n",
      "models/gemini-2.5-pro-preview-05-06\n",
      "models/gemini-2.5-pro-preview-06-05\n",
      "models/gemini-2.5-pro\n",
      "models/gemini-2.0-flash-exp\n",
      "models/gemini-2.0-flash\n",
      "models/gemini-2.0-flash-001\n",
      "models/gemini-2.0-flash-exp-image-generation\n",
      "models/gemini-2.0-flash-lite-001\n",
      "models/gemini-2.0-flash-lite\n",
      "models/gemini-2.0-flash-preview-image-generation\n",
      "models/gemini-2.0-flash-lite-preview-02-05\n",
      "models/gemini-2.0-flash-lite-preview\n",
      "models/gemini-2.0-pro-exp\n",
      "models/gemini-2.0-pro-exp-02-05\n",
      "models/gemini-exp-1206\n",
      "models/gemini-2.0-flash-thinking-exp-01-21\n",
      "models/gemini-2.0-flash-thinking-exp\n",
      "models/gemini-2.0-flash-thinking-exp-1219\n",
      "models/gemini-2.5-flash-preview-tts\n",
      "models/gemini-2.5-pro-preview-tts\n",
      "models/learnlm-2.0-flash-experimental\n",
      "models/gemma-3-1b-it\n",
      "models/gemma-3-4b-it\n",
      "models/gemma-3-12b-it\n",
      "models/gemma-3-27b-it\n",
      "models/gemma-3n-e4b-it\n",
      "models/gemma-3n-e2b-it\n",
      "models/gemini-2.5-flash-lite\n",
      "models/embedding-001\n",
      "models/text-embedding-004\n",
      "models/gemini-embedding-exp-03-07\n",
      "models/gemini-embedding-exp\n",
      "models/gemini-embedding-001\n",
      "models/aqa\n",
      "models/imagen-3.0-generate-002\n",
      "models/imagen-4.0-generate-preview-06-06\n",
      "models/imagen-4.0-ultra-generate-preview-06-06\n",
      "models/veo-2.0-generate-001\n",
      "models/veo-3.0-generate-preview\n",
      "models/veo-3.0-fast-generate-preview\n",
      "models/gemini-2.5-flash-preview-native-audio-dialog\n",
      "models/gemini-2.5-flash-exp-native-audio-thinking-dialog\n",
      "models/gemini-2.0-flash-live-001\n",
      "models/gemini-live-2.5-flash-preview\n",
      "models/gemini-2.5-flash-live-preview\n"
     ]
    }
   ],
   "source": [
    "for models in genai.list_models():\n",
    "    print(models.name)"
   ]
  },
  {
   "cell_type": "code",
   "execution_count": 41,
   "id": "c8eec683",
   "metadata": {},
   "outputs": [],
   "source": [
    "for models in genai.list_models():\n",
    "    if 'generatecontent' in models.supported_generation_methods:\n",
    "        print(models.name)\n",
    "        "
   ]
  },
  {
   "cell_type": "code",
   "execution_count": 42,
   "id": "fb3077ff",
   "metadata": {},
   "outputs": [],
   "source": [
    "documents = SimpleDirectoryReader(\"D:\\Generative AI(by sunny savita)\\qafolder\\Data\")"
   ]
  },
  {
   "cell_type": "code",
   "execution_count": 43,
   "id": "a7d7276b",
   "metadata": {},
   "outputs": [
    {
     "data": {
      "text/plain": [
       "<llama_index.core.readers.file.base.SimpleDirectoryReader at 0x1811af498e0>"
      ]
     },
     "execution_count": 43,
     "metadata": {},
     "output_type": "execute_result"
    }
   ],
   "source": [
    "documents"
   ]
  },
  {
   "cell_type": "code",
   "execution_count": 44,
   "id": "3a308c2f",
   "metadata": {},
   "outputs": [],
   "source": [
    "doc = documents.load_data()"
   ]
  },
  {
   "cell_type": "code",
   "execution_count": 45,
   "id": "2a9833a3",
   "metadata": {},
   "outputs": [
    {
     "data": {
      "text/plain": [
       "'What is machine learning?\\nMachine learning is a branch of artificial intelligence (AI) and computer science which\\nfocuses on the use of data and algorithms to imitate the way that humans learn,\\ngradually improving its accuracy.\\nIBM has a rich history with machine learning. One of its own, Arthur Samuel, is credited\\nfor coining the term, “machine learning” with his research (link resides outside ibm.com)\\naround the game of checkers. Robert Nealey, the self-proclaimed checkers master,\\nplayed the game on an IBM 7094 computer in 1962, and he lost to the computer.\\nCompared to what can be done today, this feat seems trivial, but it’s considered a major\\nmilestone in the field of artificial intelligence.\\nOver the last couple of decades, the technological advances in storage and processing\\npower have enabled some innovative products based on machine learning, such as\\nNetflix’s recommendation engine and self-driving cars.\\nMachine learning is an important component of the growing field of data science.\\nThrough the use of statistical methods, algorithms are trained to make classifications or\\npredictions, and to uncover key insights in data mining projects. These insights\\nsubsequently drive decision making within applications and businesses, ideally\\nimpacting key growth metrics. As big data continues to expand and grow, the market\\ndemand for new data scientists will increase. They will be required to help identify the\\nmost relevant business questions and the data to answer them.\\nMachine learning algorithms are typically created using frameworks such as Python that\\naccelerate solution development by using platforms like TensorFlow or PyTorch.\\nNow available: watsonx.ai\\nThe all-new enterprise studio that brings together traditional machine learning along\\nwith new generative AI capabilities powered by foundation models.\\nTry watsonx.ai\\nBegin your journey to AI\\nLearn how to scale AI\\nExplore the AI Academy\\nMachine Learning vs. Deep Learning vs. Neural Networks\\nSince deep learning and machine learning tend to be used interchangeably, it’s worth\\nnoting the nuances between the two. Machine learning, deep learning, and neural\\nnetworks are all sub-fields of artificial intelligence. However, neural networks is actually\\na sub-field of machine learning, and deep learning is a sub-field of neural networks.\\nThe way in which deep learning and machine learning differ is in how each algorithm\\nlearns. \"Deep\" machine learning can use labeled datasets, also known as supervised\\nlearning, to inform its algorithm, but it doesn’t necessarily require a labeled dataset. The\\ndeep learning process can ingest unstructured data in its raw form (e.g., text or images),\\nand it can automatically determine the set of features which distinguish different\\ncategories of data from one another. This eliminates some of the human intervention\\nrequired and enables the use of large amounts of data. You can think of deep learning\\nas \"scalable machine learning\" as Lex Fridman notes in this MIT lecture (link resides\\noutside ibm.com).\\nClassical, or \"non-deep,\" machine learning is more dependent on human intervention to\\nlearn. Human experts determine the set of features to understand the differences\\nbetween data inputs, usually requiring more structured data to learn.\\nNeural networks, or artificial neural networks (ANNs), are comprised of node layers,\\ncontaining an input layer, one or more hidden layers, and an output layer. Each node, or\\nartificial neuron, connects to another and has an associated weight and threshold. If the\\noutput of any individual node is above the specified threshold value, that node is\\nactivated, sending data to the next layer of the network. Otherwise, no data is passed\\nalong to the next layer of the network by that node. The “deep” in deep learning is just\\nreferring to the number of layers in a neural network. A neural network that consists of\\nmore than three layers—which would be inclusive of the input and the output—can be\\nconsidered a deep learning algorithm or a deep neural network. A neural network that\\nonly has three layers is just a basic neural network.\\nDeep learning and neural networks are credited with accelerating progress in areas\\nsuch as computer vision, natural language processing, and speech recognition.\\nSee the blog post “AI vs. Machine Learning vs. Deep Learning vs. Neural Networks:\\nWhat’s the Difference?” for a closer look at how the different concepts relate.\\nRelated content\\nExplore the watsonx.ai interactive demo\\nDownload “Machine learning for Dummies”\\n- This link downloads a pdf\\nExplore Gen AI for developers\\nHow does machine learning work?\\nUC Berkeley (link resides outside ibm.com) breaks out the learning system of a\\nmachine learning algorithm into three main parts.\\nA Decision Process: In general, machine learning algorithms are used to make a\\nprediction or classification. Based on some input data, which can be labeled or\\nunlabeled, your algorithm will produce an estimate about a pattern in the data.\\nAn Error Function: An error function evaluates the prediction of the model. If\\nthere are known examples, an error function can make a comparison to assess\\nthe accuracy of the model.\\nA Model Optimization Process: If the model can fit better to the data points in the\\ntraining set, then weights are adjusted to reduce the discrepancy between the\\nknown example and the model estimate. The algorithm will repeat this iterative\\n“evaluate and optimize” process, updating weights autonomously until a\\nthreshold of accuracy has been met.\\nMachine learning methods\\nMachine learning models fall into three primary categories.\\nSupervised machine learning\\nSupervised learning, also known as supervised machine learning, is defined by its use\\nof labeled datasets to train algorithms to classify data or predict outcomes accurately.\\nAs input data is fed into the model, the model adjusts its weights until it has been fitted\\nappropriately. This occurs as part of the cross validation process to ensure that the\\nmodel avoids overfitting or underfitting. Supervised learning helps organizations solve a\\nvariety of real-world problems at scale, such as classifying spam in a separate folder\\nfrom your inbox. Some methods used in supervised learning include neural networks,\\nnaïve bayes, linear regression, logistic regression, random forest, and support vector\\nmachine (SVM).\\nUnsupervised machine learning\\nUnsupervised learning, also known as unsupervised machine learning, uses machine\\nlearning algorithms to analyze and cluster unlabeled datasets (subsets called clusters).\\nThese algorithms discover hidden patterns or data groupings without the need for\\nhuman intervention. This method’s ability to discover similarities and differences in\\ninformation make it ideal for exploratory data analysis, cross-selling strategies,\\ncustomer segmentation, and image and pattern recognition. It’s also used to reduce the\\nnumber of features in a model through the process of dimensionality reduction. Principal\\ncomponent analysis (PCA) and singular value decomposition (SVD) are two common\\napproaches for this. Other algorithms used in unsupervised learning include neural\\nnetworks, k-means clustering, and probabilistic clustering methods.\\nSemi-supervised learning\\nSemi-supervised learning offers a happy medium between supervised and\\nunsupervised learning. During training, it uses a smaller labeled data set to guide\\nclassification and feature extraction from a larger, unlabeled data set. Semi-supervised\\nlearning can solve the problem of not having enough labeled data for a supervised\\nlearning algorithm. It also helps if it’s too costly to label enough data.\\nFor a deep dive into the differences between these approaches, check out \"Supervised\\nvs. Unsupervised Learning: What\\'s the Difference?\"\\nReinforcement machine learning\\nReinforcement machine learning is a machine learning model that is similar to\\nsupervised learning, but the algorithm isn’t trained using sample data. This model learns\\nas it goes by using trial and error. A sequence of successful outcomes will be reinforced\\nto develop the best recommendation or policy for a given problem.\\nThe IBM Watson® system that won the Jeopardy! challenge in 2011 is a good example.\\nThe system used reinforcement learning to learn when to attempt an answer (or\\nquestion, as it were), which square to select on the board, and how much to\\nwager—especially on daily doubles.\\nLearn more about reinforcement learning\\nCommon machine learning algorithms\\nA number of machine learning algorithms are commonly used. These include:\\nNeural networks: Neural networks simulate the way the human brain works, with\\na huge number of linked processing nodes. Neural networks are good at\\nrecognizing patterns and play an important role in applications including natural\\nlanguage translation, image recognition, speech recognition, and image creation.\\nLinear regression: This algorithm is used to predict numerical values, based on a\\nlinear relationship between different values. For example, the technique could be\\nused to predict house prices based on historical data for the area.\\nLogistic regression: This supervised learning algorithm makes predictions for\\ncategorical response variables, such as “yes/no” answers to questions. It can be\\nused for applications such as classifying spam and quality control on a\\nproduction line.\\nClustering: Using unsupervised learning, clustering algorithms can identify\\npatterns in data so that it can be grouped. Computers can help data scientists by\\nidentifying differences between data items that humans have overlooked.\\nDecision trees: Decision trees can be used for both predicting numerical values\\n(regression) and classifying data into categories. Decision trees use a branching\\nsequence of linked decisions that can be represented with a tree diagram. One of\\nthe advantages of decision trees is that they are easy to validate and audit,\\nunlike the black box of the neural network.\\nRandom forests: In a random forest, the machine learning algorithm predicts a\\nvalue or category by combining the results from a number of decision trees.\\nAdvantages and disadvantages of machine learning algorithms\\nDepending on your budget, need for speed and precision required, each algorithm\\ntype—supervised, unsupervised, semi-supervised, or reinforcement—has its own\\nadvantages and disadvantages. For example, decision tree algorithms are used for both\\npredicting numerical values (regression problems) and classifying data into categories.\\nDecision trees use a branching sequence of linked decisions that may be represented\\nwith a tree diagram. A prime advantage of decision trees is that they are easier to\\nvalidate and audit than a neural network. The bad news is that they can be more\\nunstable than other decision predictors.\\nOverall, there are many advantages to machine learning that businesses can leverage\\nfor new efficiencies. These include machine learning identifying patterns and trends in\\nmassive volumes of data that humans might not spot at all. And this analysis requires\\nlittle human intervention: just feed in the dataset of interest and let the machine learning\\nsystem assemble and refine its own algorithms—which will continually improve with\\nmore data input over time. Customers and users can enjoy a more personalized\\nexperience as the model learns more with every experience with that person.\\nOn the downside, machine learning requires large training datasets that are accurate\\nand unbiased. GIGO is the operative factor: garbage in / garbage out. Gathering\\nsufficient data and having a system robust enough to run it might also be a drain on\\nresources. Machine learning can also be prone to error, depending on the input. With\\ntoo small a sample, the system could produce a perfectly logical algorithm that is\\ncompletely wrong or misleading. To avoid wasting budget or displeasing customers,\\norganizations should act on the answers only when there is high confidence in the\\noutput.\\nReal-world machine learning use cases\\nHere are just a few examples of machine learning you might encounter every day:\\nSpeech recognition: It is also known as automatic speech recognition (ASR), computer\\nspeech recognition, or speech-to-text, and it is a capability which uses natural language\\nprocessing (NLP) to translate human speech into a written format. Many mobile devices\\nincorporate speech recognition into their systems to conduct voice search—e.g. Siri—or\\nimprove accessibility for texting.\\nCustomer service: Online chatbots are replacing human agents along the customer\\njourney, changing the way we think about customer engagement across websites and\\nsocial media platforms. Chatbots answer frequently asked questions (FAQs) about\\ntopics such as shipping, or provide personalized advice, cross-selling products or\\nsuggesting sizes for users. Examples include virtual agents on e-commerce sites;\\nmessaging bots, using Slack and Facebook Messenger; and tasks usually done by\\nvirtual assistants and voice assistants.\\nComputer vision: This AI technology enables computers to derive meaningful\\ninformation from digital images, videos, and other visual inputs, and then take the\\nappropriate action. Powered by convolutional neural networks, computer vision has\\napplications in photo tagging on social media, radiology imaging in healthcare, and\\nself-driving cars in the automotive industry.\\nRecommendation engines: Using past consumption behavior data, AI algorithms can\\nhelp to discover data trends that can be used to develop more effective cross-selling\\nstrategies. Recommendation engines are used by online retailers to make relevant\\nproduct recommendations to customers during the checkout process.\\nRobotic process automation (RPA): Also known as software robotics, RPA uses\\nintelligent automation technologies to perform repetitive manual tasks.\\nAutomated stock trading: Designed to optimize stock portfolios, AI-driven\\nhigh-frequency trading platforms make thousands or even millions of trades per day\\nwithout human intervention.\\nFraud detection: Banks and other financial institutions can use machine learning to spot\\nsuspicious transactions. Supervised learning can train a model using information about\\nknown fraudulent transactions. Anomaly detection can identify transactions that look\\natypical and deserve further investigation.\\nChallenges of machine learning\\nAs machine learning technology has developed, it has certainly made our lives easier.\\nHowever, implementing machine learning in businesses has also raised a number of\\nethical concerns about AI technologies. Some of these include:\\nTechnological singularity\\nWhile this topic garners a lot of public attention, many researchers are not concerned\\nwith the idea of AI surpassing human intelligence in the near future. Technological\\nsingularity is also referred to as strong AI or superintelligence. Philosopher Nick\\nBostrum defines superintelligence as “any intellect that vastly outperforms the best\\nhuman brains in practically every field, including scientific creativity, general wisdom,\\nand social skills.” Despite the fact that superintelligence is not imminent in society, the\\nidea of it raises some interesting questions as we consider the use of autonomous\\nsystems, like self-driving cars. It’s unrealistic to think that a driverless car would never\\nhave an accident, but who is responsible and liable under those circumstances? Should\\nwe still develop autonomous vehicles, or do we limit this technology to\\nsemi-autonomous vehicles which help people drive safely? The jury is still out on this,\\nbut these are the types of ethical debates that are occurring as new, innovative AI\\ntechnology develops.\\nAI impact on jobs\\nWhile a lot of public perception of artificial intelligence centers around job losses, this\\nconcern should probably be reframed. With every disruptive, new technology, we see\\nthat the market demand for specific job roles shifts. For example, when we look at the\\nautomotive industry, many manufacturers, like GM, are shifting to focus on electric\\nvehicle production to align with green initiatives. The energy industry isn’t going away,\\nbut the source of energy is shifting from a fuel economy to an electric one.\\nIn a similar way, artificial intelligence will shift the demand for jobs to other areas. There\\nwill need to be individuals to help manage AI systems. There will still need to be people\\nto address more complex problems within the industries that are most likely to be\\naffected by job demand shifts, such as customer service. The biggest challenge with\\nartificial intelligence and its effect on the job market will be helping people to transition\\nto new roles that are in demand.\\nPrivacy\\nPrivacy tends to be discussed in the context of data privacy, data protection, and data\\nsecurity. These concerns have allowed policymakers to make more strides in recent\\nyears. For example, in 2016, GDPR legislation was created to protect the personal data\\nof people in the European Union and European Economic Area, giving individuals more\\ncontrol of their data. In the United States, individual states are developing policies, such\\nas the California Consumer Privacy Act (CCPA), which was introduced in 2018 and\\nrequires businesses to inform consumers about the collection of their data. Legislation\\nsuch as this has forced companies to rethink how they store and use personally\\nidentifiable information (PII). As a result, investments in security have become an\\nincreasing priority for businesses as they seek to eliminate any vulnerabilities and\\nopportunities for surveillance, hacking, and cyberattacks.\\nBias and discrimination\\nInstances of bias and discrimination across a number of machine learning systems have\\nraised many ethical questions regarding the use of artificial intelligence. How can we\\nsafeguard against bias and discrimination when the training data itself may be\\ngenerated by biased human processes? While companies typically have good\\nintentions for their automation efforts, Reuters (link resides outside ibm.com) highlights\\nsome of the unforeseen consequences of incorporating AI into hiring practices. In their\\neffort to automate and simplify a process, Amazon unintentionally discriminated against\\njob candidates by gender for technical roles, and the company ultimately had to scrap\\nthe project. Harvard Business Review (link resides outside ibm.com) has raised other\\npointed questions about the use of AI in hiring practices, such as what data you should\\nbe able to use when evaluating a candidate for a role.\\nBias and discrimination aren’t limited to the human resources function either; they can\\nbe found in a number of applications from facial recognition software to social media\\nalgorithms.\\nAs businesses become more aware of the risks with AI, they’ve also become more\\nactive in this discussion around AI ethics and values. For example, IBM has sunset its\\ngeneral purpose facial recognition and analysis products. IBM CEO Arvind Krishna\\nwrote: “IBM firmly opposes and will not condone uses of any technology, including facial\\nrecognition technology offered by other vendors, for mass surveillance, racial profiling,\\nviolations of basic human rights and freedoms, or any purpose which is not consistent\\nwith our values and Principles of Trust and Transparency.”\\nAccountability\\nSince there isn’t significant legislation to regulate AI practices, there is no real\\nenforcement mechanism to ensure that ethical AI is practiced. The current incentives for\\ncompanies to be ethical are the negative repercussions of an unethical AI system on the\\nbottom line. To fill the gap, ethical frameworks have emerged as part of a collaboration\\nbetween ethicists and researchers to govern the construction and distribution of AI\\nmodels within society. However, at the moment, these only serve to guide. Some\\nresearch (link resides outside ibm.com) shows that the combination of distributed\\nresponsibility and a lack of foresight into potential consequences aren’t conducive to\\npreventing harm to society.\\nRead more about IBM\\'s position on AI Ethics\\nHow to choose the right AI platform for machine learning\\nSelecting a platform can be a challenging process, as the wrong system can drive up\\ncosts, or limit the use of other valuable tools or technologies. When reviewing multiple\\nvendors to select an AI platform, there is often a tendency to think that more features =\\na better system. Maybe so, but reviewers should start by thinking through what the AI\\nplatform will be doing for their organization. What machine learning capabilities need to\\nbe delivered and what features are important to accomplish them? One missing feature\\nmight doom the usefulness of an entire system. Here are some features to consider.\\nMLOps capabilities. Does the system have:\\na unified interface for ease of management?\\nautomated machine learning tools for faster model creation with low-code\\nand no-code functionality?\\ndecision optimization to streamline the selection and deployment of\\noptimization models?\\nvisual modeling to combine visual data science with open-source libraries\\nand notebook-based interfaces on a unified data and AI studio?\\nautomated development for beginners to get started quickly and more\\nadvanced data scientists to experiment?\\nsynthetic data generator as an alternative or supplement to real-world data\\nwhen real-world data is not readily available?\\nGenerative AI capabilities. Does the system have:\\na content generator that can generate text, images and other content\\nbased on the data it was trained on?\\nautomated classification to read and classify written input, such as\\nevaluating and sorting customer complaints or reviewing customer\\nfeedback sentiment?\\na summary generator that can transform dense text into a high-quality\\nsummary, capture key points from financial reports, and generate meeting\\ntranscriptions?\\na data extraction capability to sort through complex details and quickly pull\\nthe necessary information from large documents?'"
      ]
     },
     "execution_count": 45,
     "metadata": {},
     "output_type": "execute_result"
    }
   ],
   "source": [
    "doc[0].text"
   ]
  },
  {
   "cell_type": "code",
   "execution_count": 46,
   "id": "d4ebb6a8",
   "metadata": {},
   "outputs": [
    {
     "name": "stdout",
     "output_type": "stream",
     "text": [
      "What is machine learning?\n",
      "Machine learning is a branch of artificial intelligence (AI) and computer science which\n",
      "focuses on the use of data and algorithms to imitate the way that humans learn,\n",
      "gradually improving its accuracy.\n",
      "IBM has a rich history with machine learning. One of its own, Arthur Samuel, is credited\n",
      "for coining the term, “machine learning” with his research (link resides outside ibm.com)\n",
      "around the game of checkers. Robert Nealey, the self-proclaimed checkers master,\n",
      "played the game on an IBM 7094 computer in 1962, and he lost to the computer.\n",
      "Compared to what can be done today, this feat seems trivial, but it’s considered a major\n",
      "milestone in the field of artificial intelligence.\n",
      "Over the last couple of decades, the technological advances in storage and processing\n",
      "power have enabled some innovative products based on machine learning, such as\n",
      "Netflix’s recommendation engine and self-driving cars.\n",
      "Machine learning is an important component of the growing field of data science.\n",
      "Through the use of statistical methods, algorithms are trained to make classifications or\n",
      "predictions, and to uncover key insights in data mining projects. These insights\n",
      "subsequently drive decision making within applications and businesses, ideally\n",
      "impacting key growth metrics. As big data continues to expand and grow, the market\n",
      "demand for new data scientists will increase. They will be required to help identify the\n",
      "most relevant business questions and the data to answer them.\n",
      "Machine learning algorithms are typically created using frameworks such as Python that\n",
      "accelerate solution development by using platforms like TensorFlow or PyTorch.\n",
      "Now available: watsonx.ai\n",
      "The all-new enterprise studio that brings together traditional machine learning along\n",
      "with new generative AI capabilities powered by foundation models.\n",
      "Try watsonx.ai\n",
      "Begin your journey to AI\n",
      "Learn how to scale AI\n",
      "Explore the AI Academy\n",
      "Machine Learning vs. Deep Learning vs. Neural Networks\n",
      "Since deep learning and machine learning tend to be used interchangeably, it’s worth\n",
      "noting the nuances between the two. Machine learning, deep learning, and neural\n",
      "networks are all sub-fields of artificial intelligence. However, neural networks is actually\n",
      "a sub-field of machine learning, and deep learning is a sub-field of neural networks.\n",
      "The way in which deep learning and machine learning differ is in how each algorithm\n",
      "learns. \"Deep\" machine learning can use labeled datasets, also known as supervised\n",
      "learning, to inform its algorithm, but it doesn’t necessarily require a labeled dataset. The\n",
      "deep learning process can ingest unstructured data in its raw form (e.g., text or images),\n",
      "and it can automatically determine the set of features which distinguish different\n",
      "categories of data from one another. This eliminates some of the human intervention\n",
      "required and enables the use of large amounts of data. You can think of deep learning\n",
      "as \"scalable machine learning\" as Lex Fridman notes in this MIT lecture (link resides\n",
      "outside ibm.com).\n",
      "Classical, or \"non-deep,\" machine learning is more dependent on human intervention to\n",
      "learn. Human experts determine the set of features to understand the differences\n",
      "between data inputs, usually requiring more structured data to learn.\n",
      "Neural networks, or artificial neural networks (ANNs), are comprised of node layers,\n",
      "containing an input layer, one or more hidden layers, and an output layer. Each node, or\n",
      "artificial neuron, connects to another and has an associated weight and threshold. If the\n",
      "output of any individual node is above the specified threshold value, that node is\n",
      "activated, sending data to the next layer of the network. Otherwise, no data is passed\n",
      "along to the next layer of the network by that node. The “deep” in deep learning is just\n",
      "referring to the number of layers in a neural network. A neural network that consists of\n",
      "more than three layers—which would be inclusive of the input and the output—can be\n",
      "considered a deep learning algorithm or a deep neural network. A neural network that\n",
      "only has three layers is just a basic neural network.\n",
      "Deep learning and neural networks are credited with accelerating progress in areas\n",
      "such as computer vision, natural language processing, and speech recognition.\n",
      "See the blog post “AI vs. Machine Learning vs. Deep Learning vs. Neural Networks:\n",
      "What’s the Difference?” for a closer look at how the different concepts relate.\n",
      "Related content\n",
      "Explore the watsonx.ai interactive demo\n",
      "Download “Machine learning for Dummies”\n",
      "- This link downloads a pdf\n",
      "Explore Gen AI for developers\n",
      "How does machine learning work?\n",
      "UC Berkeley (link resides outside ibm.com) breaks out the learning system of a\n",
      "machine learning algorithm into three main parts.\n",
      "A Decision Process: In general, machine learning algorithms are used to make a\n",
      "prediction or classification. Based on some input data, which can be labeled or\n",
      "unlabeled, your algorithm will produce an estimate about a pattern in the data.\n",
      "An Error Function: An error function evaluates the prediction of the model. If\n",
      "there are known examples, an error function can make a comparison to assess\n",
      "the accuracy of the model.\n",
      "A Model Optimization Process: If the model can fit better to the data points in the\n",
      "training set, then weights are adjusted to reduce the discrepancy between the\n",
      "known example and the model estimate. The algorithm will repeat this iterative\n",
      "“evaluate and optimize” process, updating weights autonomously until a\n",
      "threshold of accuracy has been met.\n",
      "Machine learning methods\n",
      "Machine learning models fall into three primary categories.\n",
      "Supervised machine learning\n",
      "Supervised learning, also known as supervised machine learning, is defined by its use\n",
      "of labeled datasets to train algorithms to classify data or predict outcomes accurately.\n",
      "As input data is fed into the model, the model adjusts its weights until it has been fitted\n",
      "appropriately. This occurs as part of the cross validation process to ensure that the\n",
      "model avoids overfitting or underfitting. Supervised learning helps organizations solve a\n",
      "variety of real-world problems at scale, such as classifying spam in a separate folder\n",
      "from your inbox. Some methods used in supervised learning include neural networks,\n",
      "naïve bayes, linear regression, logistic regression, random forest, and support vector\n",
      "machine (SVM).\n",
      "Unsupervised machine learning\n",
      "Unsupervised learning, also known as unsupervised machine learning, uses machine\n",
      "learning algorithms to analyze and cluster unlabeled datasets (subsets called clusters).\n",
      "These algorithms discover hidden patterns or data groupings without the need for\n",
      "human intervention. This method’s ability to discover similarities and differences in\n",
      "information make it ideal for exploratory data analysis, cross-selling strategies,\n",
      "customer segmentation, and image and pattern recognition. It’s also used to reduce the\n",
      "number of features in a model through the process of dimensionality reduction. Principal\n",
      "component analysis (PCA) and singular value decomposition (SVD) are two common\n",
      "approaches for this. Other algorithms used in unsupervised learning include neural\n",
      "networks, k-means clustering, and probabilistic clustering methods.\n",
      "Semi-supervised learning\n",
      "Semi-supervised learning offers a happy medium between supervised and\n",
      "unsupervised learning. During training, it uses a smaller labeled data set to guide\n",
      "classification and feature extraction from a larger, unlabeled data set. Semi-supervised\n",
      "learning can solve the problem of not having enough labeled data for a supervised\n",
      "learning algorithm. It also helps if it’s too costly to label enough data.\n",
      "For a deep dive into the differences between these approaches, check out \"Supervised\n",
      "vs. Unsupervised Learning: What's the Difference?\"\n",
      "Reinforcement machine learning\n",
      "Reinforcement machine learning is a machine learning model that is similar to\n",
      "supervised learning, but the algorithm isn’t trained using sample data. This model learns\n",
      "as it goes by using trial and error. A sequence of successful outcomes will be reinforced\n",
      "to develop the best recommendation or policy for a given problem.\n",
      "The IBM Watson® system that won the Jeopardy! challenge in 2011 is a good example.\n",
      "The system used reinforcement learning to learn when to attempt an answer (or\n",
      "question, as it were), which square to select on the board, and how much to\n",
      "wager—especially on daily doubles.\n",
      "Learn more about reinforcement learning\n",
      "Common machine learning algorithms\n",
      "A number of machine learning algorithms are commonly used. These include:\n",
      "Neural networks: Neural networks simulate the way the human brain works, with\n",
      "a huge number of linked processing nodes. Neural networks are good at\n",
      "recognizing patterns and play an important role in applications including natural\n",
      "language translation, image recognition, speech recognition, and image creation.\n",
      "Linear regression: This algorithm is used to predict numerical values, based on a\n",
      "linear relationship between different values. For example, the technique could be\n",
      "used to predict house prices based on historical data for the area.\n",
      "Logistic regression: This supervised learning algorithm makes predictions for\n",
      "categorical response variables, such as “yes/no” answers to questions. It can be\n",
      "used for applications such as classifying spam and quality control on a\n",
      "production line.\n",
      "Clustering: Using unsupervised learning, clustering algorithms can identify\n",
      "patterns in data so that it can be grouped. Computers can help data scientists by\n",
      "identifying differences between data items that humans have overlooked.\n",
      "Decision trees: Decision trees can be used for both predicting numerical values\n",
      "(regression) and classifying data into categories. Decision trees use a branching\n",
      "sequence of linked decisions that can be represented with a tree diagram. One of\n",
      "the advantages of decision trees is that they are easy to validate and audit,\n",
      "unlike the black box of the neural network.\n",
      "Random forests: In a random forest, the machine learning algorithm predicts a\n",
      "value or category by combining the results from a number of decision trees.\n",
      "Advantages and disadvantages of machine learning algorithms\n",
      "Depending on your budget, need for speed and precision required, each algorithm\n",
      "type—supervised, unsupervised, semi-supervised, or reinforcement—has its own\n",
      "advantages and disadvantages. For example, decision tree algorithms are used for both\n",
      "predicting numerical values (regression problems) and classifying data into categories.\n",
      "Decision trees use a branching sequence of linked decisions that may be represented\n",
      "with a tree diagram. A prime advantage of decision trees is that they are easier to\n",
      "validate and audit than a neural network. The bad news is that they can be more\n",
      "unstable than other decision predictors.\n",
      "Overall, there are many advantages to machine learning that businesses can leverage\n",
      "for new efficiencies. These include machine learning identifying patterns and trends in\n",
      "massive volumes of data that humans might not spot at all. And this analysis requires\n",
      "little human intervention: just feed in the dataset of interest and let the machine learning\n",
      "system assemble and refine its own algorithms—which will continually improve with\n",
      "more data input over time. Customers and users can enjoy a more personalized\n",
      "experience as the model learns more with every experience with that person.\n",
      "On the downside, machine learning requires large training datasets that are accurate\n",
      "and unbiased. GIGO is the operative factor: garbage in / garbage out. Gathering\n",
      "sufficient data and having a system robust enough to run it might also be a drain on\n",
      "resources. Machine learning can also be prone to error, depending on the input. With\n",
      "too small a sample, the system could produce a perfectly logical algorithm that is\n",
      "completely wrong or misleading. To avoid wasting budget or displeasing customers,\n",
      "organizations should act on the answers only when there is high confidence in the\n",
      "output.\n",
      "Real-world machine learning use cases\n",
      "Here are just a few examples of machine learning you might encounter every day:\n",
      "Speech recognition: It is also known as automatic speech recognition (ASR), computer\n",
      "speech recognition, or speech-to-text, and it is a capability which uses natural language\n",
      "processing (NLP) to translate human speech into a written format. Many mobile devices\n",
      "incorporate speech recognition into their systems to conduct voice search—e.g. Siri—or\n",
      "improve accessibility for texting.\n",
      "Customer service: Online chatbots are replacing human agents along the customer\n",
      "journey, changing the way we think about customer engagement across websites and\n",
      "social media platforms. Chatbots answer frequently asked questions (FAQs) about\n",
      "topics such as shipping, or provide personalized advice, cross-selling products or\n",
      "suggesting sizes for users. Examples include virtual agents on e-commerce sites;\n",
      "messaging bots, using Slack and Facebook Messenger; and tasks usually done by\n",
      "virtual assistants and voice assistants.\n",
      "Computer vision: This AI technology enables computers to derive meaningful\n",
      "information from digital images, videos, and other visual inputs, and then take the\n",
      "appropriate action. Powered by convolutional neural networks, computer vision has\n",
      "applications in photo tagging on social media, radiology imaging in healthcare, and\n",
      "self-driving cars in the automotive industry.\n",
      "Recommendation engines: Using past consumption behavior data, AI algorithms can\n",
      "help to discover data trends that can be used to develop more effective cross-selling\n",
      "strategies. Recommendation engines are used by online retailers to make relevant\n",
      "product recommendations to customers during the checkout process.\n",
      "Robotic process automation (RPA): Also known as software robotics, RPA uses\n",
      "intelligent automation technologies to perform repetitive manual tasks.\n",
      "Automated stock trading: Designed to optimize stock portfolios, AI-driven\n",
      "high-frequency trading platforms make thousands or even millions of trades per day\n",
      "without human intervention.\n",
      "Fraud detection: Banks and other financial institutions can use machine learning to spot\n",
      "suspicious transactions. Supervised learning can train a model using information about\n",
      "known fraudulent transactions. Anomaly detection can identify transactions that look\n",
      "atypical and deserve further investigation.\n",
      "Challenges of machine learning\n",
      "As machine learning technology has developed, it has certainly made our lives easier.\n",
      "However, implementing machine learning in businesses has also raised a number of\n",
      "ethical concerns about AI technologies. Some of these include:\n",
      "Technological singularity\n",
      "While this topic garners a lot of public attention, many researchers are not concerned\n",
      "with the idea of AI surpassing human intelligence in the near future. Technological\n",
      "singularity is also referred to as strong AI or superintelligence. Philosopher Nick\n",
      "Bostrum defines superintelligence as “any intellect that vastly outperforms the best\n",
      "human brains in practically every field, including scientific creativity, general wisdom,\n",
      "and social skills.” Despite the fact that superintelligence is not imminent in society, the\n",
      "idea of it raises some interesting questions as we consider the use of autonomous\n",
      "systems, like self-driving cars. It’s unrealistic to think that a driverless car would never\n",
      "have an accident, but who is responsible and liable under those circumstances? Should\n",
      "we still develop autonomous vehicles, or do we limit this technology to\n",
      "semi-autonomous vehicles which help people drive safely? The jury is still out on this,\n",
      "but these are the types of ethical debates that are occurring as new, innovative AI\n",
      "technology develops.\n",
      "AI impact on jobs\n",
      "While a lot of public perception of artificial intelligence centers around job losses, this\n",
      "concern should probably be reframed. With every disruptive, new technology, we see\n",
      "that the market demand for specific job roles shifts. For example, when we look at the\n",
      "automotive industry, many manufacturers, like GM, are shifting to focus on electric\n",
      "vehicle production to align with green initiatives. The energy industry isn’t going away,\n",
      "but the source of energy is shifting from a fuel economy to an electric one.\n",
      "In a similar way, artificial intelligence will shift the demand for jobs to other areas. There\n",
      "will need to be individuals to help manage AI systems. There will still need to be people\n",
      "to address more complex problems within the industries that are most likely to be\n",
      "affected by job demand shifts, such as customer service. The biggest challenge with\n",
      "artificial intelligence and its effect on the job market will be helping people to transition\n",
      "to new roles that are in demand.\n",
      "Privacy\n",
      "Privacy tends to be discussed in the context of data privacy, data protection, and data\n",
      "security. These concerns have allowed policymakers to make more strides in recent\n",
      "years. For example, in 2016, GDPR legislation was created to protect the personal data\n",
      "of people in the European Union and European Economic Area, giving individuals more\n",
      "control of their data. In the United States, individual states are developing policies, such\n",
      "as the California Consumer Privacy Act (CCPA), which was introduced in 2018 and\n",
      "requires businesses to inform consumers about the collection of their data. Legislation\n",
      "such as this has forced companies to rethink how they store and use personally\n",
      "identifiable information (PII). As a result, investments in security have become an\n",
      "increasing priority for businesses as they seek to eliminate any vulnerabilities and\n",
      "opportunities for surveillance, hacking, and cyberattacks.\n",
      "Bias and discrimination\n",
      "Instances of bias and discrimination across a number of machine learning systems have\n",
      "raised many ethical questions regarding the use of artificial intelligence. How can we\n",
      "safeguard against bias and discrimination when the training data itself may be\n",
      "generated by biased human processes? While companies typically have good\n",
      "intentions for their automation efforts, Reuters (link resides outside ibm.com) highlights\n",
      "some of the unforeseen consequences of incorporating AI into hiring practices. In their\n",
      "effort to automate and simplify a process, Amazon unintentionally discriminated against\n",
      "job candidates by gender for technical roles, and the company ultimately had to scrap\n",
      "the project. Harvard Business Review (link resides outside ibm.com) has raised other\n",
      "pointed questions about the use of AI in hiring practices, such as what data you should\n",
      "be able to use when evaluating a candidate for a role.\n",
      "Bias and discrimination aren’t limited to the human resources function either; they can\n",
      "be found in a number of applications from facial recognition software to social media\n",
      "algorithms.\n",
      "As businesses become more aware of the risks with AI, they’ve also become more\n",
      "active in this discussion around AI ethics and values. For example, IBM has sunset its\n",
      "general purpose facial recognition and analysis products. IBM CEO Arvind Krishna\n",
      "wrote: “IBM firmly opposes and will not condone uses of any technology, including facial\n",
      "recognition technology offered by other vendors, for mass surveillance, racial profiling,\n",
      "violations of basic human rights and freedoms, or any purpose which is not consistent\n",
      "with our values and Principles of Trust and Transparency.”\n",
      "Accountability\n",
      "Since there isn’t significant legislation to regulate AI practices, there is no real\n",
      "enforcement mechanism to ensure that ethical AI is practiced. The current incentives for\n",
      "companies to be ethical are the negative repercussions of an unethical AI system on the\n",
      "bottom line. To fill the gap, ethical frameworks have emerged as part of a collaboration\n",
      "between ethicists and researchers to govern the construction and distribution of AI\n",
      "models within society. However, at the moment, these only serve to guide. Some\n",
      "research (link resides outside ibm.com) shows that the combination of distributed\n",
      "responsibility and a lack of foresight into potential consequences aren’t conducive to\n",
      "preventing harm to society.\n",
      "Read more about IBM's position on AI Ethics\n",
      "How to choose the right AI platform for machine learning\n",
      "Selecting a platform can be a challenging process, as the wrong system can drive up\n",
      "costs, or limit the use of other valuable tools or technologies. When reviewing multiple\n",
      "vendors to select an AI platform, there is often a tendency to think that more features =\n",
      "a better system. Maybe so, but reviewers should start by thinking through what the AI\n",
      "platform will be doing for their organization. What machine learning capabilities need to\n",
      "be delivered and what features are important to accomplish them? One missing feature\n",
      "might doom the usefulness of an entire system. Here are some features to consider.\n",
      "MLOps capabilities. Does the system have:\n",
      "a unified interface for ease of management?\n",
      "automated machine learning tools for faster model creation with low-code\n",
      "and no-code functionality?\n",
      "decision optimization to streamline the selection and deployment of\n",
      "optimization models?\n",
      "visual modeling to combine visual data science with open-source libraries\n",
      "and notebook-based interfaces on a unified data and AI studio?\n",
      "automated development for beginners to get started quickly and more\n",
      "advanced data scientists to experiment?\n",
      "synthetic data generator as an alternative or supplement to real-world data\n",
      "when real-world data is not readily available?\n",
      "Generative AI capabilities. Does the system have:\n",
      "a content generator that can generate text, images and other content\n",
      "based on the data it was trained on?\n",
      "automated classification to read and classify written input, such as\n",
      "evaluating and sorting customer complaints or reviewing customer\n",
      "feedback sentiment?\n",
      "a summary generator that can transform dense text into a high-quality\n",
      "summary, capture key points from financial reports, and generate meeting\n",
      "transcriptions?\n",
      "a data extraction capability to sort through complex details and quickly pull\n",
      "the necessary information from large documents?\n"
     ]
    }
   ],
   "source": [
    "print(doc[0].text)"
   ]
  },
  {
   "cell_type": "code",
   "execution_count": 47,
   "id": "b30d2f63",
   "metadata": {},
   "outputs": [
    {
     "name": "stderr",
     "output_type": "stream",
     "text": [
      "C:\\Users\\amits_b2zbl1r\\AppData\\Local\\Temp\\ipykernel_21024\\2469896082.py:1: DeprecationWarning: Call to deprecated class Gemini. (Should use `llama-index-llms-google-genai` instead, using Google's latest unified SDK. See: https://docs.llamaindex.ai/en/stable/examples/llm/google_genai/)\n",
      "  model = Gemini(model=\"gemini-1.5-flash\", api_key=google_api_key)\n"
     ]
    }
   ],
   "source": [
    "model = Gemini(model=\"gemini-1.5-flash\", api_key=google_api_key)"
   ]
  },
  {
   "cell_type": "code",
   "execution_count": 48,
   "id": "af30a491",
   "metadata": {},
   "outputs": [
    {
     "name": "stderr",
     "output_type": "stream",
     "text": [
      "C:\\Users\\amits_b2zbl1r\\AppData\\Local\\Temp\\ipykernel_21024\\2179559832.py:1: DeprecationWarning: Call to deprecated class GeminiEmbedding. (Should use `llama-index-embeddings-google-genai` instead, using Google's latest unified SDK. See: https://docs.llamaindex.ai/en/stable/examples/embeddings/google_genai/)\n",
      "  GeminiEmbedding = GeminiEmbedding(model=\"embedding-gecko-001\")\n"
     ]
    }
   ],
   "source": [
    "GeminiEmbedding = GeminiEmbedding(model=\"embedding-gecko-001\")"
   ]
  },
  {
   "cell_type": "code",
   "execution_count": 49,
   "id": "caa6558f",
   "metadata": {},
   "outputs": [
    {
     "ename": "ValueError",
     "evalue": "ServiceContext is deprecated. Use llama_index.settings.Settings instead, or pass in modules to local functions/methods/interfaces.\nSee the docs for updated usage/migration: \nhttps://docs.llamaindex.ai/en/stable/module_guides/supporting_modules/service_context_migration/",
     "output_type": "error",
     "traceback": [
      "\u001b[1;31m---------------------------------------------------------------------------\u001b[0m",
      "\u001b[1;31mValueError\u001b[0m                                Traceback (most recent call last)",
      "Cell \u001b[1;32mIn[49], line 1\u001b[0m\n\u001b[1;32m----> 1\u001b[0m ServiceContext \u001b[38;5;241m=\u001b[39m \u001b[43mServiceContext\u001b[49m\u001b[38;5;241;43m.\u001b[39;49m\u001b[43mfrom_defaults\u001b[49m\u001b[43m(\u001b[49m\u001b[43mllm\u001b[49m\u001b[38;5;241;43m=\u001b[39;49m\u001b[43mmodel\u001b[49m\u001b[43m,\u001b[49m\u001b[43m \u001b[49m\u001b[43membed_model\u001b[49m\u001b[38;5;241;43m=\u001b[39;49m\u001b[43mGeminiEmbedding\u001b[49m\u001b[43m,\u001b[49m\u001b[43m \u001b[49m\u001b[43mchunk_size\u001b[49m\u001b[38;5;241;43m=\u001b[39;49m\u001b[38;5;241;43m500\u001b[39;49m\u001b[43m,\u001b[49m\u001b[43m \u001b[49m\u001b[43mchunk_overlap\u001b[49m\u001b[38;5;241;43m=\u001b[39;49m\u001b[38;5;241;43m20\u001b[39;49m\u001b[43m)\u001b[49m\n",
      "File \u001b[1;32md:\\Generative AI(by sunny savita)\\qafolder\\venv\\lib\\site-packages\\llama_index\\core\\service_context.py:33\u001b[0m, in \u001b[0;36mServiceContext.from_defaults\u001b[1;34m(cls, **kwargs)\u001b[0m\n\u001b[0;32m     21\u001b[0m \u001b[38;5;129m@classmethod\u001b[39m\n\u001b[0;32m     22\u001b[0m \u001b[38;5;28;01mdef\u001b[39;00m\u001b[38;5;250m \u001b[39m\u001b[38;5;21mfrom_defaults\u001b[39m(\n\u001b[0;32m     23\u001b[0m     \u001b[38;5;28mcls\u001b[39m,\n\u001b[0;32m     24\u001b[0m     \u001b[38;5;241m*\u001b[39m\u001b[38;5;241m*\u001b[39mkwargs: Any,\n\u001b[0;32m     25\u001b[0m ) \u001b[38;5;241m-\u001b[39m\u001b[38;5;241m>\u001b[39m \u001b[38;5;124m\"\u001b[39m\u001b[38;5;124mServiceContext\u001b[39m\u001b[38;5;124m\"\u001b[39m:\n\u001b[0;32m     26\u001b[0m \u001b[38;5;250m    \u001b[39m\u001b[38;5;124;03m\"\"\"\u001b[39;00m\n\u001b[0;32m     27\u001b[0m \u001b[38;5;124;03m    Create a ServiceContext from defaults.\u001b[39;00m\n\u001b[0;32m     28\u001b[0m \n\u001b[1;32m   (...)\u001b[0m\n\u001b[0;32m     31\u001b[0m \n\u001b[0;32m     32\u001b[0m \u001b[38;5;124;03m    \"\"\"\u001b[39;00m\n\u001b[1;32m---> 33\u001b[0m     \u001b[38;5;28;01mraise\u001b[39;00m \u001b[38;5;167;01mValueError\u001b[39;00m(\n\u001b[0;32m     34\u001b[0m         \u001b[38;5;124m\"\u001b[39m\u001b[38;5;124mServiceContext is deprecated. Use llama_index.settings.Settings instead, \u001b[39m\u001b[38;5;124m\"\u001b[39m\n\u001b[0;32m     35\u001b[0m         \u001b[38;5;124m\"\u001b[39m\u001b[38;5;124mor pass in modules to local functions/methods/interfaces.\u001b[39m\u001b[38;5;130;01m\\n\u001b[39;00m\u001b[38;5;124m\"\u001b[39m\n\u001b[0;32m     36\u001b[0m         \u001b[38;5;124m\"\u001b[39m\u001b[38;5;124mSee the docs for updated usage/migration: \u001b[39m\u001b[38;5;130;01m\\n\u001b[39;00m\u001b[38;5;124m\"\u001b[39m\n\u001b[0;32m     37\u001b[0m         \u001b[38;5;124m\"\u001b[39m\u001b[38;5;124mhttps://docs.llamaindex.ai/en/stable/module_guides/supporting_modules/service_context_migration/\u001b[39m\u001b[38;5;124m\"\u001b[39m\n\u001b[0;32m     38\u001b[0m     )\n",
      "\u001b[1;31mValueError\u001b[0m: ServiceContext is deprecated. Use llama_index.settings.Settings instead, or pass in modules to local functions/methods/interfaces.\nSee the docs for updated usage/migration: \nhttps://docs.llamaindex.ai/en/stable/module_guides/supporting_modules/service_context_migration/"
     ]
    }
   ],
   "source": [
    "ServiceContext = ServiceContext.from_defaults(llm=model, embed_model=GeminiEmbedding, chunk_size=500, chunk_overlap=20)"
   ]
  },
  {
   "cell_type": "code",
   "execution_count": 50,
   "id": "b1b28086",
   "metadata": {},
   "outputs": [],
   "source": [
    "\n",
    "index = VectorStoreIndex.from_documents(\n",
    "    doc,\n",
    "    llm=model,\n",
    "    embed_model=GeminiEmbedding,\n",
    "    chunk_size=500,\n",
    "    chunk_overlap=20\n",
    ")\n"
   ]
  },
  {
   "cell_type": "code",
   "execution_count": 51,
   "id": "f2b4140e",
   "metadata": {},
   "outputs": [
    {
     "data": {
      "text/plain": [
       "<llama_index.core.indices.vector_store.base.VectorStoreIndex at 0x1811a48b6a0>"
      ]
     },
     "execution_count": 51,
     "metadata": {},
     "output_type": "execute_result"
    }
   ],
   "source": [
    "index"
   ]
  },
  {
   "cell_type": "code",
   "execution_count": 52,
   "id": "9f502ae5",
   "metadata": {},
   "outputs": [],
   "source": [
    "index.storage_context.persist(persist_dir=\"index_storage\")"
   ]
  },
  {
   "cell_type": "code",
   "execution_count": 53,
   "id": "4c95752f",
   "metadata": {},
   "outputs": [
    {
     "ename": "ValueError",
     "evalue": "\n******\nCould not load OpenAI model. If you intended to use OpenAI, please check your OPENAI_API_KEY.\nOriginal error:\nNo API key found for OpenAI.\nPlease set either the OPENAI_API_KEY environment variable or openai.api_key prior to initialization.\nAPI keys can be found or created at https://platform.openai.com/account/api-keys\n\nTo disable the LLM entirely, set llm=None.\n******",
     "output_type": "error",
     "traceback": [
      "\u001b[1;31m---------------------------------------------------------------------------\u001b[0m",
      "\u001b[1;31mValueError\u001b[0m                                Traceback (most recent call last)",
      "File \u001b[1;32md:\\Generative AI(by sunny savita)\\qafolder\\venv\\lib\\site-packages\\llama_index\\core\\llms\\utils.py:42\u001b[0m, in \u001b[0;36mresolve_llm\u001b[1;34m(llm, callback_manager)\u001b[0m\n\u001b[0;32m     41\u001b[0m     llm \u001b[38;5;241m=\u001b[39m OpenAI()\n\u001b[1;32m---> 42\u001b[0m     \u001b[43mvalidate_openai_api_key\u001b[49m\u001b[43m(\u001b[49m\u001b[43mllm\u001b[49m\u001b[38;5;241;43m.\u001b[39;49m\u001b[43mapi_key\u001b[49m\u001b[43m)\u001b[49m  \u001b[38;5;66;03m# type: ignore\u001b[39;00m\n\u001b[0;32m     43\u001b[0m \u001b[38;5;28;01mexcept\u001b[39;00m \u001b[38;5;167;01mImportError\u001b[39;00m:\n",
      "File \u001b[1;32md:\\Generative AI(by sunny savita)\\qafolder\\venv\\lib\\site-packages\\llama_index\\llms\\openai\\utils.py:790\u001b[0m, in \u001b[0;36mvalidate_openai_api_key\u001b[1;34m(api_key)\u001b[0m\n\u001b[0;32m    789\u001b[0m \u001b[38;5;28;01mif\u001b[39;00m \u001b[38;5;129;01mnot\u001b[39;00m openai_api_key:\n\u001b[1;32m--> 790\u001b[0m     \u001b[38;5;28;01mraise\u001b[39;00m \u001b[38;5;167;01mValueError\u001b[39;00m(MISSING_API_KEY_ERROR_MESSAGE)\n",
      "\u001b[1;31mValueError\u001b[0m: No API key found for OpenAI.\nPlease set either the OPENAI_API_KEY environment variable or openai.api_key prior to initialization.\nAPI keys can be found or created at https://platform.openai.com/account/api-keys\n",
      "\nDuring handling of the above exception, another exception occurred:\n",
      "\u001b[1;31mValueError\u001b[0m                                Traceback (most recent call last)",
      "Cell \u001b[1;32mIn[53], line 1\u001b[0m\n\u001b[1;32m----> 1\u001b[0m query_engine \u001b[38;5;241m=\u001b[39m \u001b[43mindex\u001b[49m\u001b[38;5;241;43m.\u001b[39;49m\u001b[43mas_query_engine\u001b[49m\u001b[43m(\u001b[49m\u001b[43m)\u001b[49m\n",
      "File \u001b[1;32md:\\Generative AI(by sunny savita)\\qafolder\\venv\\lib\\site-packages\\llama_index\\core\\indices\\base.py:511\u001b[0m, in \u001b[0;36mBaseIndex.as_query_engine\u001b[1;34m(self, llm, **kwargs)\u001b[0m\n\u001b[0;32m    503\u001b[0m \u001b[38;5;28;01mfrom\u001b[39;00m\u001b[38;5;250m \u001b[39m\u001b[38;5;21;01mllama_index\u001b[39;00m\u001b[38;5;21;01m.\u001b[39;00m\u001b[38;5;21;01mcore\u001b[39;00m\u001b[38;5;21;01m.\u001b[39;00m\u001b[38;5;21;01mquery_engine\u001b[39;00m\u001b[38;5;21;01m.\u001b[39;00m\u001b[38;5;21;01mretriever_query_engine\u001b[39;00m\u001b[38;5;250m \u001b[39m\u001b[38;5;28;01mimport\u001b[39;00m (\n\u001b[0;32m    504\u001b[0m     RetrieverQueryEngine,\n\u001b[0;32m    505\u001b[0m )\n\u001b[0;32m    507\u001b[0m retriever \u001b[38;5;241m=\u001b[39m \u001b[38;5;28mself\u001b[39m\u001b[38;5;241m.\u001b[39mas_retriever(\u001b[38;5;241m*\u001b[39m\u001b[38;5;241m*\u001b[39mkwargs)\n\u001b[0;32m    508\u001b[0m llm \u001b[38;5;241m=\u001b[39m (\n\u001b[0;32m    509\u001b[0m     resolve_llm(llm, callback_manager\u001b[38;5;241m=\u001b[39m\u001b[38;5;28mself\u001b[39m\u001b[38;5;241m.\u001b[39m_callback_manager)\n\u001b[0;32m    510\u001b[0m     \u001b[38;5;28;01mif\u001b[39;00m llm\n\u001b[1;32m--> 511\u001b[0m     \u001b[38;5;28;01melse\u001b[39;00m \u001b[43mSettings\u001b[49m\u001b[38;5;241;43m.\u001b[39;49m\u001b[43mllm\u001b[49m\n\u001b[0;32m    512\u001b[0m )\n\u001b[0;32m    514\u001b[0m \u001b[38;5;28;01mreturn\u001b[39;00m RetrieverQueryEngine\u001b[38;5;241m.\u001b[39mfrom_args(\n\u001b[0;32m    515\u001b[0m     retriever,\n\u001b[0;32m    516\u001b[0m     llm\u001b[38;5;241m=\u001b[39mllm,\n\u001b[0;32m    517\u001b[0m     \u001b[38;5;241m*\u001b[39m\u001b[38;5;241m*\u001b[39mkwargs,\n\u001b[0;32m    518\u001b[0m )\n",
      "File \u001b[1;32md:\\Generative AI(by sunny savita)\\qafolder\\venv\\lib\\site-packages\\llama_index\\core\\settings.py:36\u001b[0m, in \u001b[0;36m_Settings.llm\u001b[1;34m(self)\u001b[0m\n\u001b[0;32m     34\u001b[0m \u001b[38;5;250m\u001b[39m\u001b[38;5;124;03m\"\"\"Get the LLM.\"\"\"\u001b[39;00m\n\u001b[0;32m     35\u001b[0m \u001b[38;5;28;01mif\u001b[39;00m \u001b[38;5;28mself\u001b[39m\u001b[38;5;241m.\u001b[39m_llm \u001b[38;5;129;01mis\u001b[39;00m \u001b[38;5;28;01mNone\u001b[39;00m:\n\u001b[1;32m---> 36\u001b[0m     \u001b[38;5;28mself\u001b[39m\u001b[38;5;241m.\u001b[39m_llm \u001b[38;5;241m=\u001b[39m \u001b[43mresolve_llm\u001b[49m\u001b[43m(\u001b[49m\u001b[38;5;124;43m\"\u001b[39;49m\u001b[38;5;124;43mdefault\u001b[39;49m\u001b[38;5;124;43m\"\u001b[39;49m\u001b[43m)\u001b[49m\n\u001b[0;32m     38\u001b[0m \u001b[38;5;28;01mif\u001b[39;00m \u001b[38;5;28mself\u001b[39m\u001b[38;5;241m.\u001b[39m_callback_manager \u001b[38;5;129;01mis\u001b[39;00m \u001b[38;5;129;01mnot\u001b[39;00m \u001b[38;5;28;01mNone\u001b[39;00m:\n\u001b[0;32m     39\u001b[0m     \u001b[38;5;28mself\u001b[39m\u001b[38;5;241m.\u001b[39m_llm\u001b[38;5;241m.\u001b[39mcallback_manager \u001b[38;5;241m=\u001b[39m \u001b[38;5;28mself\u001b[39m\u001b[38;5;241m.\u001b[39m_callback_manager\n",
      "File \u001b[1;32md:\\Generative AI(by sunny savita)\\qafolder\\venv\\lib\\site-packages\\llama_index\\core\\llms\\utils.py:49\u001b[0m, in \u001b[0;36mresolve_llm\u001b[1;34m(llm, callback_manager)\u001b[0m\n\u001b[0;32m     44\u001b[0m         \u001b[38;5;28;01mraise\u001b[39;00m \u001b[38;5;167;01mImportError\u001b[39;00m(\n\u001b[0;32m     45\u001b[0m             \u001b[38;5;124m\"\u001b[39m\u001b[38;5;124m`llama-index-llms-openai` package not found, \u001b[39m\u001b[38;5;124m\"\u001b[39m\n\u001b[0;32m     46\u001b[0m             \u001b[38;5;124m\"\u001b[39m\u001b[38;5;124mplease run `pip install llama-index-llms-openai`\u001b[39m\u001b[38;5;124m\"\u001b[39m\n\u001b[0;32m     47\u001b[0m         )\n\u001b[0;32m     48\u001b[0m     \u001b[38;5;28;01mexcept\u001b[39;00m \u001b[38;5;167;01mValueError\u001b[39;00m \u001b[38;5;28;01mas\u001b[39;00m e:\n\u001b[1;32m---> 49\u001b[0m         \u001b[38;5;28;01mraise\u001b[39;00m \u001b[38;5;167;01mValueError\u001b[39;00m(\n\u001b[0;32m     50\u001b[0m             \u001b[38;5;124m\"\u001b[39m\u001b[38;5;130;01m\\n\u001b[39;00m\u001b[38;5;124m******\u001b[39m\u001b[38;5;130;01m\\n\u001b[39;00m\u001b[38;5;124m\"\u001b[39m\n\u001b[0;32m     51\u001b[0m             \u001b[38;5;124m\"\u001b[39m\u001b[38;5;124mCould not load OpenAI model. \u001b[39m\u001b[38;5;124m\"\u001b[39m\n\u001b[0;32m     52\u001b[0m             \u001b[38;5;124m\"\u001b[39m\u001b[38;5;124mIf you intended to use OpenAI, please check your OPENAI_API_KEY.\u001b[39m\u001b[38;5;130;01m\\n\u001b[39;00m\u001b[38;5;124m\"\u001b[39m\n\u001b[0;32m     53\u001b[0m             \u001b[38;5;124m\"\u001b[39m\u001b[38;5;124mOriginal error:\u001b[39m\u001b[38;5;130;01m\\n\u001b[39;00m\u001b[38;5;124m\"\u001b[39m\n\u001b[0;32m     54\u001b[0m             \u001b[38;5;124mf\u001b[39m\u001b[38;5;124m\"\u001b[39m\u001b[38;5;132;01m{\u001b[39;00me\u001b[38;5;132;01m!s}\u001b[39;00m\u001b[38;5;124m\"\u001b[39m\n\u001b[0;32m     55\u001b[0m             \u001b[38;5;124m\"\u001b[39m\u001b[38;5;130;01m\\n\u001b[39;00m\u001b[38;5;124mTo disable the LLM entirely, set llm=None.\u001b[39m\u001b[38;5;124m\"\u001b[39m\n\u001b[0;32m     56\u001b[0m             \u001b[38;5;124m\"\u001b[39m\u001b[38;5;130;01m\\n\u001b[39;00m\u001b[38;5;124m******\u001b[39m\u001b[38;5;124m\"\u001b[39m\n\u001b[0;32m     57\u001b[0m         )\n\u001b[0;32m     59\u001b[0m \u001b[38;5;28;01mif\u001b[39;00m \u001b[38;5;28misinstance\u001b[39m(llm, \u001b[38;5;28mstr\u001b[39m):\n\u001b[0;32m     60\u001b[0m     splits \u001b[38;5;241m=\u001b[39m llm\u001b[38;5;241m.\u001b[39msplit(\u001b[38;5;124m\"\u001b[39m\u001b[38;5;124m:\u001b[39m\u001b[38;5;124m\"\u001b[39m, \u001b[38;5;241m1\u001b[39m)\n",
      "\u001b[1;31mValueError\u001b[0m: \n******\nCould not load OpenAI model. If you intended to use OpenAI, please check your OPENAI_API_KEY.\nOriginal error:\nNo API key found for OpenAI.\nPlease set either the OPENAI_API_KEY environment variable or openai.api_key prior to initialization.\nAPI keys can be found or created at https://platform.openai.com/account/api-keys\n\nTo disable the LLM entirely, set llm=None.\n******"
     ]
    }
   ],
   "source": [
    "query_engine = index.as_query_engine()"
   ]
  },
  {
   "cell_type": "code",
   "execution_count": 54,
   "id": "46801d5a",
   "metadata": {},
   "outputs": [],
   "source": [
    "query_engine = index.as_query_engine(llm=model)\n"
   ]
  },
  {
   "cell_type": "code",
   "execution_count": 56,
   "id": "10da5315",
   "metadata": {},
   "outputs": [],
   "source": [
    "response = query_engine.query(\"What is machine learning?  Explain in simple terms. Give an example of a machine learning model and how it works.\")"
   ]
  },
  {
   "cell_type": "code",
   "execution_count": 57,
   "id": "eebe0c5a",
   "metadata": {},
   "outputs": [
    {
     "data": {
      "text/plain": [
       "\"Machine learning uses data and algorithms to mimic human learning, improving accuracy over time.  It's a type of artificial intelligence.\\n\\nOne example is a model that predicts numerical values based on a linear relationship between different values; this is called linear regression.\\n\""
      ]
     },
     "execution_count": 57,
     "metadata": {},
     "output_type": "execute_result"
    }
   ],
   "source": [
    "response.response"
   ]
  },
  {
   "cell_type": "code",
   "execution_count": 58,
   "id": "d1f659e7",
   "metadata": {},
   "outputs": [
    {
     "name": "stdout",
     "output_type": "stream",
     "text": [
      "Machine learning uses data and algorithms to mimic human learning, improving accuracy over time.  It's a type of artificial intelligence.\n",
      "\n",
      "One example is a model that predicts numerical values based on a linear relationship between different values; this is called linear regression.\n",
      "\n"
     ]
    }
   ],
   "source": [
    "print(response.response)"
   ]
  },
  {
   "cell_type": "code",
   "execution_count": 60,
   "id": "df9d28b4",
   "metadata": {},
   "outputs": [],
   "source": [
    "response = query_engine.query(\"What is mahindra singh dhoni?\")"
   ]
  },
  {
   "cell_type": "code",
   "execution_count": 62,
   "id": "ead974e6",
   "metadata": {},
   "outputs": [
    {
     "name": "stdout",
     "output_type": "stream",
     "text": [
      "This question cannot be answered from the given source.\n",
      "\n"
     ]
    }
   ],
   "source": [
    "print(response.response)"
   ]
  },
  {
   "cell_type": "code",
   "execution_count": null,
   "id": "0ee0159d",
   "metadata": {},
   "outputs": [],
   "source": []
  }
 ],
 "metadata": {
  "kernelspec": {
   "display_name": "venv",
   "language": "python",
   "name": "python3"
  },
  "language_info": {
   "codemirror_mode": {
    "name": "ipython",
    "version": 3
   },
   "file_extension": ".py",
   "mimetype": "text/x-python",
   "name": "python",
   "nbconvert_exporter": "python",
   "pygments_lexer": "ipython3",
   "version": "3.9.23"
  }
 },
 "nbformat": 4,
 "nbformat_minor": 5
}
